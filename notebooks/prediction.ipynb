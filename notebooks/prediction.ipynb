{
 "cells": [
  {
   "cell_type": "markdown",
   "id": "e43f9656",
   "metadata": {},
   "source": [
    "# 타이타늄 합금 인장강도 예측\n",
    "이 노트북은 타이타늄 합금 조성으로부터 인장강도를 예측하는 머신러닝 모델을 학습합니다."
   ]
  },
  {
   "cell_type": "code",
   "execution_count": null,
   "id": "1a03b229",
   "metadata": {},
   "outputs": [],
   "source": [
    "import pandas as pd\n",
    "import matplotlib.pyplot as plt\n",
    "from sklearn.ensemble import RandomForestRegressor\n",
    "from sklearn.model_selection import train_test_split\n",
    "from sklearn.metrics import mean_absolute_error"
   ]
  },
  {
   "cell_type": "code",
   "execution_count": null,
   "id": "aec1c2b4",
   "metadata": {},
   "outputs": [],
   "source": [
    "df = pd.read_csv('../dataset/titanium_data.csv')\n",
    "df.head()"
   ]
  },
  {
   "cell_type": "code",
   "execution_count": null,
   "id": "278528cf",
   "metadata": {},
   "outputs": [],
   "source": [
    "X = df.drop('Tensile_Strength_MPa', axis=1)\n",
    "y = df['Tensile_Strength_MPa']\n",
    "X_train, X_test, y_train, y_test = train_test_split(X, y, test_size=0.2, random_state=42)"
   ]
  },
  {
   "cell_type": "code",
   "execution_count": null,
   "id": "b5b789f3",
   "metadata": {},
   "outputs": [],
   "source": [
    "model = RandomForestRegressor(n_estimators=100, random_state=42)\n",
    "model.fit(X_train, y_train)\n",
    "preds = model.predict(X_test)\n",
    "mae = mean_absolute_error(y_test, preds)\n",
    "print(f'Mean Absolute Error: {mae:.2f} MPa')"
   ]
  },
  {
   "cell_type": "code",
   "execution_count": null,
   "id": "f2f5bfe0",
   "metadata": {},
   "outputs": [],
   "source": [
    "plt.scatter(y_test, preds)\n",
    "plt.xlabel('Actual Strength (MPa)')\n",
    "plt.ylabel('Predicted Strength (MPa)')\n",
    "plt.title('Actual vs Predicted')\n",
    "plt.grid(True)\n",
    "plt.show()"
   ]
  }
 ],
 "metadata": {},
 "nbformat": 4,
 "nbformat_minor": 5
}
